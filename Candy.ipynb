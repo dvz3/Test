{
 "cells": [
  {
   "cell_type": "code",
   "execution_count": 3,
   "id": "93773319",
   "metadata": {},
   "outputs": [],
   "source": [
    "import collections"
   ]
  },
  {
   "cell_type": "markdown",
   "id": "c6a19aa1",
   "metadata": {},
   "source": [
    "У вас есть список конфет разных типов, вам нужно собрать одинаковые наборы для своих друзей.\n",
    "\n",
    "\n",
    "1)Какому максимальному числу друзей вы сможете собрать наборы так, чтобы в наборы попали все виды конфет?\n",
    "\n",
    "2)Сколько можно собрать наборов если стоит задача раздать максимальное количество конфет?\n",
    "Реализуйте функции на питоне, которая принимает на вход список конфет и отдает максимальное число друзей. Формат входных данных - список строк.\n",
    "\n",
    "ТЕСТ: ['a', 'a', 'a', 'b', 'b', 'b', 'b', 'c', 'c', 'c', 'c', 'c'] ОТВЕТ:1\n",
    "\n",
    "ТЕСТ: ['a', 'b', 'c', 'a', 'b', 'c', 'c', 'c'] ОТВЕТ:2\n"
   ]
  },
  {
   "cell_type": "markdown",
   "id": "cf2e5290",
   "metadata": {},
   "source": [
    "Списки конфт будем передавать текстовым файлом candy.txt"
   ]
  },
  {
   "cell_type": "markdown",
   "id": "c4456dad",
   "metadata": {},
   "source": [
    "Функция 1"
   ]
  },
  {
   "cell_type": "code",
   "execution_count": 11,
   "id": "4f31f894",
   "metadata": {},
   "outputs": [],
   "source": [
    "def candy_all_type (file):\n",
    "    #прочитаем строки файла\n",
    "    with open(file, \"r\", encoding=\"utf-8\") as f:\n",
    "        candy_lines = [line.rstrip() for line in f]\n",
    "    #отсечем только наш список и посчитаем счетчиком встречаемость классов,\n",
    "    #удалив пробелы,запятые и кавычки на случай очень короткого списка   \n",
    "    for element in candy_lines:\n",
    "        results = collections.Counter(element[7:-9])\n",
    "        del results[',']\n",
    "        del results[' ']\n",
    "        del results[\"'\"]\n",
    "        rare_type = min(results.values())\n",
    "        print(element [:-1], rare_type)\n",
    "        #print('Количество счастливых друзей - ', rare_type)\n",
    "    return"
   ]
  },
  {
   "cell_type": "code",
   "execution_count": 12,
   "id": "3b796c67",
   "metadata": {},
   "outputs": [
    {
     "name": "stdout",
     "output_type": "stream",
     "text": [
      "ТЕСТ: ['a', 'b', 'c', 'd', 'e', 'r', 'c', 't', 'q' ,'t', 't', 'q', 't', 'q' , 't', 't', 'q', 't', 'q' , 't', 't', 'q', 't', 'q', 't', 't', 'q'] ОТВЕТ: 1\n",
      "ТЕСТ: ['a', 'a', 'a', 'b', 'b', 'b', 'b', 'c', 'c', 'c', 'c', 'c'] ОТВЕТ: 3\n",
      "ТЕСТ: ['a', 'a'] ОТВЕТ: 2\n",
      "ТЕСТ: ['a'] ОТВЕТ: 1\n"
     ]
    }
   ],
   "source": [
    "candy_all_type('candy.txt')"
   ]
  },
  {
   "cell_type": "markdown",
   "id": "c5220808",
   "metadata": {},
   "source": [
    "Функция 2"
   ]
  },
  {
   "cell_type": "code",
   "execution_count": 4,
   "id": "1115ce42",
   "metadata": {},
   "outputs": [],
   "source": [
    "def candy_max_sum (file):\n",
    "    with open(file, \"r\", encoding=\"utf-8\") as f:\n",
    "        candy_lines = [line.rstrip() for line in f]\n",
    "        for element in candy_lines:\n",
    "            results = collections.Counter(element[7:-9])\n",
    "            #[results.pop(key) for key in [\"'\", ' ', ',']]\n",
    "            del results[',']\n",
    "            del results[' ']\n",
    "            del results[\"'\"]\n",
    "            list_results = list(results.values())\n",
    "            list_results.sort()\n",
    "            if len(list_results) < 2:\n",
    "                print(element[:-1], 'Конфеты всего одного типа, для',\n",
    "                      list_results[0], 'друзей')\n",
    "            else:\n",
    "                i=0\n",
    "                n=0\n",
    "                list_sum = list_results.copy()\n",
    "                #Берем минимальный элемент в отсортированном списке счетчика типов\n",
    "                #Если при удалении этого элемента следующий элемент такой, что его произведение на (длину списка -1) больше, \n",
    "                #чем наш минимальный на длину, то минимальный и новая итерация.\n",
    "                #при этом нужно учесть случай, когда следующий элемент = минимальному и надо сравнить со следующим\n",
    "                for t in list_results:\n",
    "                    list_sum [i] = t * (len(list_results) - i)\n",
    "                    if list_sum [i] > n: n = list_sum [i]\n",
    "                    i+=1\n",
    "                print(element[:-1], list_results[list_sum.index(n)])\n",
    "    return        "
   ]
  },
  {
   "cell_type": "code",
   "execution_count": 5,
   "id": "b17f96f1",
   "metadata": {},
   "outputs": [
    {
     "name": "stdout",
     "output_type": "stream",
     "text": [
      "ТЕСТ: ['a', 'b', 'c', 'd', 'e', 'r', 'c', 't', 'q' ,'t', 't', 'q', 't', 'q' , 't', 't', 'q', 't', 'q' , 't', 't', 'q', 't', 'q', 't', 't', 'q'] ОТВЕТ: 8\n",
      "ТЕСТ: ['a', 'a', 'a', 'b', 'b', 'b', 'b', 'c', 'c', 'c', 'c', 'c'] ОТВЕТ: 3\n",
      "ТЕСТ: ['a', 'a'] ОТВЕТ: Конфеты всего одного типа, для 2 друзей\n",
      "ТЕСТ: ['a'] ОТВЕТ: Конфеты всего одного типа, для 1 друзей\n"
     ]
    }
   ],
   "source": [
    "candy_max_sum ('candy.txt')"
   ]
  },
  {
   "cell_type": "code",
   "execution_count": null,
   "id": "24217b75",
   "metadata": {},
   "outputs": [],
   "source": []
  }
 ],
 "metadata": {
  "kernelspec": {
   "display_name": "Python 3",
   "language": "python",
   "name": "python3"
  },
  "language_info": {
   "codemirror_mode": {
    "name": "ipython",
    "version": 3
   },
   "file_extension": ".py",
   "mimetype": "text/x-python",
   "name": "python",
   "nbconvert_exporter": "python",
   "pygments_lexer": "ipython3",
   "version": "3.8.5"
  },
  "varInspector": {
   "cols": {
    "lenName": 16,
    "lenType": 16,
    "lenVar": 40
   },
   "kernels_config": {
    "python": {
     "delete_cmd_postfix": "",
     "delete_cmd_prefix": "del ",
     "library": "var_list.py",
     "varRefreshCmd": "print(var_dic_list())"
    },
    "r": {
     "delete_cmd_postfix": ") ",
     "delete_cmd_prefix": "rm(",
     "library": "var_list.r",
     "varRefreshCmd": "cat(var_dic_list()) "
    }
   },
   "position": {
    "height": "407.4px",
    "left": "740.4px",
    "right": "20px",
    "top": "172px",
    "width": "350px"
   },
   "types_to_exclude": [
    "module",
    "function",
    "builtin_function_or_method",
    "instance",
    "_Feature"
   ],
   "window_display": false
  }
 },
 "nbformat": 4,
 "nbformat_minor": 5
}
